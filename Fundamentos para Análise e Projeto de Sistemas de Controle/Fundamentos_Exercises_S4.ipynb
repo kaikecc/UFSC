{
 "cells": [
  {
   "cell_type": "code",
   "execution_count": 16,
   "id": "b8e34474",
   "metadata": {},
   "outputs": [],
   "source": [
    "import numpy as np\n",
    "import matplotlib.pyplot as plt\n",
    "import control as co \n",
    "import handcalcs.render\n",
    "from control.matlab import *"
   ]
  },
  {
   "cell_type": "markdown",
   "id": "60fd8ff7",
   "metadata": {},
   "source": [
    "# 2. Considering a unity feedback configuration with a proportional gain K and a loop-gain transfer function\n"
   ]
  },
  {
   "cell_type": "code",
   "execution_count": 39,
   "id": "b843be22",
   "metadata": {},
   "outputs": [],
   "source": [
    "s = tf('s')\n",
    "xi = 0.0\n",
    "wn = 0.0"
   ]
  },
  {
   "cell_type": "markdown",
   "id": "dea4edab",
   "metadata": {},
   "source": [
    "\n",
    "$\\large G = \\frac{2}{s(s + 2 \\xi w_{n})}$"
   ]
  },
  {
   "cell_type": "code",
   "execution_count": 42,
   "id": "1274d6a1",
   "metadata": {},
   "outputs": [],
   "source": [
    "G = 2 / (s*(s + 2*xi*wn))"
   ]
  },
  {
   "cell_type": "code",
   "execution_count": 41,
   "id": "436f9b39",
   "metadata": {},
   "outputs": [
    {
     "data": {
      "text/latex": [
       "\\[\n",
       "\\begin{aligned}\n",
       "G &= \\frac{2}{s^2} \\; \n",
       "\\end{aligned}\n",
       "\\]"
      ],
      "text/plain": [
       "<IPython.core.display.Latex object>"
      ]
     },
     "metadata": {},
     "output_type": "display_data"
    }
   ],
   "source": [
    "%%render\n",
    "G"
   ]
  },
  {
   "cell_type": "code",
   "execution_count": null,
   "id": "4aca6673",
   "metadata": {},
   "outputs": [],
   "source": []
  }
 ],
 "metadata": {
  "kernelspec": {
   "display_name": "Python 3 (ipykernel)",
   "language": "python",
   "name": "python3"
  },
  "language_info": {
   "codemirror_mode": {
    "name": "ipython",
    "version": 3
   },
   "file_extension": ".py",
   "mimetype": "text/x-python",
   "name": "python",
   "nbconvert_exporter": "python",
   "pygments_lexer": "ipython3",
   "version": "3.8.10"
  }
 },
 "nbformat": 4,
 "nbformat_minor": 5
}
